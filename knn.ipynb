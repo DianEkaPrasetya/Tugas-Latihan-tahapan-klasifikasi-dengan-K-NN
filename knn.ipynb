{
  "nbformat": 4,
  "nbformat_minor": 0,
  "metadata": {
    "colab": {
      "name": "knn.ipynb",
      "provenance": [],
      "collapsed_sections": []
    },
    "kernelspec": {
      "name": "python3",
      "display_name": "Python 3"
    },
    "language_info": {
      "name": "python"
    }
  },
  "cells": [
    {
      "cell_type": "code",
      "execution_count": 1,
      "metadata": {
        "id": "mjM_kWZ9SlvC"
      },
      "outputs": [],
      "source": [
        "import numpy as np\n",
        "import matplotlib.pyplot as plt\n",
        "import pandas as pd"
      ]
    },
    {
      "cell_type": "code",
      "source": [
        "dataset = pd.read_csv(\"diabetes.csv\")\n",
        "x = dataset.iloc[:, [6,7]].values\n",
        "y = dataset.iloc[:,-1].values"
      ],
      "metadata": {
        "id": "NY8_pFmLTRmL"
      },
      "execution_count": 2,
      "outputs": []
    },
    {
      "cell_type": "code",
      "source": [
        "print(x)"
      ],
      "metadata": {
        "colab": {
          "base_uri": "https://localhost:8080/"
        },
        "id": "IAdmd2yOTWWY",
        "outputId": "568e1c27-e1e4-41d0-f33c-5b3cd6085a61"
      },
      "execution_count": 3,
      "outputs": [
        {
          "output_type": "stream",
          "name": "stdout",
          "text": [
            "[[ 0.627 50.   ]\n",
            " [ 0.351 31.   ]\n",
            " [ 0.672 32.   ]\n",
            " ...\n",
            " [ 0.245 30.   ]\n",
            " [ 0.349 47.   ]\n",
            " [ 0.315 23.   ]]\n"
          ]
        }
      ]
    },
    {
      "cell_type": "code",
      "source": [
        "print(y)"
      ],
      "metadata": {
        "colab": {
          "base_uri": "https://localhost:8080/"
        },
        "id": "7vW9scdaTY69",
        "outputId": "ade84b8a-0954-4a2e-d1cb-f961ed389c33"
      },
      "execution_count": 4,
      "outputs": [
        {
          "output_type": "stream",
          "name": "stdout",
          "text": [
            "[1 0 1 0 1 0 1 0 1 1 0 1 0 1 1 1 1 1 0 1 0 0 1 1 1 1 1 0 0 0 0 1 0 0 0 0 0\n",
            " 1 1 1 0 0 0 1 0 1 0 0 1 0 0 0 0 1 0 0 1 0 0 0 0 1 0 0 1 0 1 0 0 0 1 0 1 0\n",
            " 0 0 0 0 1 0 0 0 0 0 1 0 0 0 1 0 0 0 0 1 0 0 0 0 0 1 1 0 0 0 0 0 0 0 0 1 1\n",
            " 1 0 0 1 1 1 0 0 0 1 0 0 0 1 1 0 0 1 1 1 1 1 0 0 0 0 0 0 0 0 0 0 1 0 0 0 0\n",
            " 0 0 0 0 1 0 1 1 0 0 0 1 0 0 0 0 1 1 0 0 0 0 1 1 0 0 0 1 0 1 0 1 0 0 0 0 0\n",
            " 1 1 1 1 1 0 0 1 1 0 1 0 1 1 1 0 0 0 0 0 0 1 1 0 1 0 0 0 1 1 1 1 0 1 1 1 1\n",
            " 0 0 0 0 0 1 0 0 1 1 0 0 0 1 1 1 1 0 0 0 1 1 0 1 0 0 0 0 0 0 0 0 1 1 0 0 0\n",
            " 1 0 1 0 0 1 0 1 0 0 1 1 0 0 0 0 0 1 0 0 0 1 0 0 1 1 0 0 1 0 0 0 1 1 1 0 0\n",
            " 1 0 1 0 1 1 0 1 0 0 1 0 1 1 0 0 1 0 1 0 0 1 0 1 0 1 1 1 0 0 1 0 1 0 0 0 1\n",
            " 0 0 0 0 1 1 1 0 0 0 0 0 0 0 0 0 1 0 0 0 0 0 1 1 1 0 1 1 0 0 1 0 0 1 0 0 1\n",
            " 1 0 0 0 0 1 0 0 1 0 0 0 0 0 0 0 1 1 1 0 0 1 0 0 1 0 0 1 0 1 1 0 1 0 1 0 1\n",
            " 0 1 1 0 0 0 0 1 1 0 1 0 1 0 0 0 0 1 1 0 1 0 1 0 0 0 0 0 1 0 0 0 0 1 0 0 1\n",
            " 1 1 0 0 1 0 0 1 0 0 0 1 0 0 1 0 0 0 0 0 0 0 0 0 1 0 0 0 0 0 0 0 1 0 0 0 1\n",
            " 0 0 0 1 1 0 0 0 0 0 0 0 1 0 0 0 0 1 0 0 0 1 0 0 0 1 0 0 0 1 0 0 0 0 1 1 0\n",
            " 0 0 0 0 0 1 0 0 0 0 0 0 0 0 0 0 0 1 0 0 0 1 1 1 1 0 0 1 1 0 0 0 0 0 0 0 0\n",
            " 0 0 0 0 0 1 1 0 0 0 0 0 0 0 1 0 0 0 0 0 0 0 1 0 1 1 0 0 0 1 0 1 0 1 0 1 0\n",
            " 1 0 0 1 0 0 1 0 0 0 0 1 1 0 1 0 0 0 0 1 1 0 1 0 0 0 1 1 0 0 0 0 0 0 0 0 0\n",
            " 0 1 0 0 0 0 1 0 0 1 0 0 0 1 0 0 0 1 1 1 0 0 0 0 0 0 1 0 0 0 1 0 1 1 1 1 0\n",
            " 1 1 0 0 0 0 0 0 0 1 1 0 1 0 0 1 0 1 0 0 0 0 0 1 0 1 0 1 0 1 1 0 0 0 0 1 1\n",
            " 0 0 0 1 0 1 1 0 0 1 0 0 1 1 0 0 1 0 0 1 0 0 0 0 0 0 0 1 1 1 0 0 0 0 0 0 1\n",
            " 1 0 0 1 0 0 1 0 1 1 1 0 0 1 1 1 0 1 0 1 0 1 0 0 0 0 1 0]\n"
          ]
        }
      ]
    },
    {
      "cell_type": "code",
      "source": [
        "from sklearn.model_selection import train_test_split\n",
        "x_train, x_test, y_train, y_test = train_test_split(x, y, test_size = 0.25, random_state = 0)"
      ],
      "metadata": {
        "id": "U9g0xNmaTda-"
      },
      "execution_count": 5,
      "outputs": []
    },
    {
      "cell_type": "code",
      "source": [
        "print(x_train)"
      ],
      "metadata": {
        "colab": {
          "base_uri": "https://localhost:8080/"
        },
        "id": "JcSKl5YlTgLJ",
        "outputId": "4375cdaa-06d6-4688-bce5-eb862e28e9a9"
      },
      "execution_count": 6,
      "outputs": [
        {
          "output_type": "stream",
          "name": "stdout",
          "text": [
            "[[ 0.142 33.   ]\n",
            " [ 0.261 23.   ]\n",
            " [ 0.601 27.   ]\n",
            " ...\n",
            " [ 0.148 21.   ]\n",
            " [ 0.3   35.   ]\n",
            " [ 0.64  69.   ]]\n"
          ]
        }
      ]
    },
    {
      "cell_type": "code",
      "source": [
        "len(x_train)"
      ],
      "metadata": {
        "colab": {
          "base_uri": "https://localhost:8080/"
        },
        "id": "ku2PHbctTiyJ",
        "outputId": "87fbca77-a430-4a5e-8c4a-5e5d8f86e4a7"
      },
      "execution_count": 7,
      "outputs": [
        {
          "output_type": "execute_result",
          "data": {
            "text/plain": [
              "576"
            ]
          },
          "metadata": {},
          "execution_count": 7
        }
      ]
    },
    {
      "cell_type": "code",
      "source": [
        "len(x)"
      ],
      "metadata": {
        "colab": {
          "base_uri": "https://localhost:8080/"
        },
        "id": "PHMaDGCWTk1n",
        "outputId": "1da6af74-df6d-4e3f-917e-b460f608e98e"
      },
      "execution_count": 8,
      "outputs": [
        {
          "output_type": "execute_result",
          "data": {
            "text/plain": [
              "768"
            ]
          },
          "metadata": {},
          "execution_count": 8
        }
      ]
    },
    {
      "cell_type": "code",
      "source": [
        "len(x_test)"
      ],
      "metadata": {
        "colab": {
          "base_uri": "https://localhost:8080/"
        },
        "id": "L-vQK0n6ToLw",
        "outputId": "a8fe3888-0eb8-48ac-9469-a470f1522da3"
      },
      "execution_count": 9,
      "outputs": [
        {
          "output_type": "execute_result",
          "data": {
            "text/plain": [
              "192"
            ]
          },
          "metadata": {},
          "execution_count": 9
        }
      ]
    },
    {
      "cell_type": "code",
      "source": [
        "len(y)"
      ],
      "metadata": {
        "colab": {
          "base_uri": "https://localhost:8080/"
        },
        "id": "9xYBeDzGTqBN",
        "outputId": "b9361794-650f-4a3c-d95d-1afdd2eead23"
      },
      "execution_count": 10,
      "outputs": [
        {
          "output_type": "execute_result",
          "data": {
            "text/plain": [
              "768"
            ]
          },
          "metadata": {},
          "execution_count": 10
        }
      ]
    },
    {
      "cell_type": "code",
      "source": [
        "len(y_test)"
      ],
      "metadata": {
        "colab": {
          "base_uri": "https://localhost:8080/"
        },
        "id": "jOm6j1RaTscx",
        "outputId": "bca82cff-3ae0-4842-c803-1d7826c854c2"
      },
      "execution_count": 11,
      "outputs": [
        {
          "output_type": "execute_result",
          "data": {
            "text/plain": [
              "192"
            ]
          },
          "metadata": {},
          "execution_count": 11
        }
      ]
    },
    {
      "cell_type": "code",
      "source": [
        "len(y_train)"
      ],
      "metadata": {
        "colab": {
          "base_uri": "https://localhost:8080/"
        },
        "id": "S27yfh2TTua3",
        "outputId": "36ff26dd-2a96-401c-df30-c7da9710b836"
      },
      "execution_count": 12,
      "outputs": [
        {
          "output_type": "execute_result",
          "data": {
            "text/plain": [
              "576"
            ]
          },
          "metadata": {},
          "execution_count": 12
        }
      ]
    },
    {
      "cell_type": "code",
      "source": [
        "from sklearn.preprocessing import StandardScaler\n",
        "sc = StandardScaler()\n",
        "x_train = sc.fit_transform(x_train)\n",
        "x_test = sc.transform(x_test)\n"
      ],
      "metadata": {
        "id": "gRYXVQUkTwfY"
      },
      "execution_count": 13,
      "outputs": []
    },
    {
      "cell_type": "code",
      "source": [
        "print(x_train)"
      ],
      "metadata": {
        "colab": {
          "base_uri": "https://localhost:8080/"
        },
        "id": "oYujZwnzTyjI",
        "outputId": "e29be620-72cb-4e08-a605-0c287c636a0e"
      },
      "execution_count": 14,
      "outputs": [
        {
          "output_type": "stream",
          "name": "stdout",
          "text": [
            "[[-0.98325882 -0.04863985]\n",
            " [-0.62493647 -0.88246592]\n",
            " [ 0.39884168 -0.5489355 ]\n",
            " ...\n",
            " [-0.96519215 -1.04923114]\n",
            " [-0.5075031   0.11812536]\n",
            " [ 0.51627505  2.953134  ]]\n"
          ]
        }
      ]
    },
    {
      "cell_type": "code",
      "source": [
        "print(x_test)"
      ],
      "metadata": {
        "colab": {
          "base_uri": "https://localhost:8080/"
        },
        "id": "sqwfcmEsT1uh",
        "outputId": "5b638be6-b024-45ad-e479-64e5fa96f607"
      },
      "execution_count": 15,
      "outputs": [
        {
          "output_type": "stream",
          "name": "stdout",
          "text": [
            "[[ 2.78665365 -0.96584853]\n",
            " [-0.19434743 -0.88246592]\n",
            " [-0.23349189 -0.71570071]\n",
            " [ 0.3566861   1.45224707]\n",
            " [ 0.5764973  -0.21540507]\n",
            " [-0.558692   -0.79908332]\n",
            " [ 1.27808644 -0.04863985]\n",
            " [ 2.06398672  1.53562968]\n",
            " [ 3.40694276 -0.71570071]\n",
            " [-0.4352364   1.7857775 ]\n",
            " [ 1.15161972 -0.46555289]\n",
            " [ 1.70265326  1.61901229]\n",
            " [ 0.82943072  1.95254271]\n",
            " [ 3.70504287 -0.71570071]\n",
            " [ 0.39583056  0.70180361]\n",
            " [ 0.95890854 -0.13202246]\n",
            " [ 0.75415291  0.20150797]\n",
            " [-0.66408093 -1.04923114]\n",
            " [-0.14918074  2.45283836]\n",
            " [ 0.09170823 -0.29878768]\n",
            " [ 0.2573194   0.28489057]\n",
            " [ 0.675864   -1.04923114]\n",
            " [ 0.91675297 -0.71570071]\n",
            " [-0.67913649  1.03533404]\n",
            " [ 0.05557489 -0.96584853]\n",
            " [ 0.13687491 -1.04923114]\n",
            " [ 0.34163054 -0.5489355 ]\n",
            " [ 2.12420896  0.45165579]\n",
            " [-0.48642531 -0.79908332]\n",
            " [-0.53159199 -0.29878768]\n",
            " [ 0.53735284  1.45224707]\n",
            " [ 0.08267489 -1.04923114]\n",
            " [ 0.68188622 -0.5489355 ]\n",
            " [ 1.0462308  -0.46555289]\n",
            " [-0.79355875 -0.79908332]\n",
            " [-1.00433661  0.618421  ]\n",
            " [-0.62794758  0.70180361]\n",
            " [-0.46835864 -1.04923114]\n",
            " [-0.56772534 -0.71570071]\n",
            " [-0.59482535 -0.6323181 ]\n",
            " [ 0.77221959 -0.88246592]\n",
            " [ 0.27237496 -1.04923114]\n",
            " [ 0.08568601 -0.13202246]\n",
            " [-0.68515872 -0.71570071]\n",
            " [-0.93508103  1.61901229]\n",
            " [ 0.31151942 -1.04923114]\n",
            " [-1.02541439 -1.04923114]\n",
            " [-0.75140318 -0.46555289]\n",
            " [ 1.31421978 -0.6323181 ]\n",
            " [ 0.20311938 -0.5489355 ]\n",
            " [-0.67311427  0.20150797]\n",
            " [-0.45330308 -0.96584853]\n",
            " [ 0.8234085   0.36827318]\n",
            " [-0.23349189  0.45165579]\n",
            " [-0.26360301 -0.71570071]\n",
            " [-0.98928105 -0.96584853]\n",
            " [-0.35393637 -0.21540507]\n",
            " [-0.78151431 -0.46555289]\n",
            " [ 0.22118606 -0.88246592]\n",
            " [-0.62493647 -0.29878768]\n",
            " [-0.91400324  0.78518622]\n",
            " [-0.25155856 -0.29878768]\n",
            " [-0.79054764 -1.04923114]\n",
            " [ 1.39853092 -0.71570071]\n",
            " [-0.37200305 -0.38217028]\n",
            " [ 2.17539787  0.45165579]\n",
            " [-0.50148087  1.28548186]\n",
            " [-0.64601426  0.53503839]\n",
            " [-0.26661412  0.70180361]\n",
            " [-0.56772534  0.36827318]\n",
            " [-0.93508103 -1.04923114]\n",
            " [-0.78151431  0.28489057]\n",
            " [-0.69419205 -0.71570071]\n",
            " [ 2.98839816  0.95195143]\n",
            " [ 0.03148599 -0.6323181 ]\n",
            " [-0.65203648 -0.29878768]\n",
            " [-0.55266978  1.11871664]\n",
            " [ 1.11548638  0.45165579]\n",
            " [-0.45631419  0.03474275]\n",
            " [-0.7544143  -0.29878768]\n",
            " [-0.83872544  0.70180361]\n",
            " [-0.20940299 -0.79908332]\n",
            " [ 0.69091956 -0.5489355 ]\n",
            " [-0.51051421 -1.04923114]\n",
            " [-0.55568089 -0.46555289]\n",
            " [-0.69720316 -0.38217028]\n",
            " [-0.20036965 -0.96584853]\n",
            " [-0.85980322 -0.04863985]\n",
            " [ 0.35367499  1.45224707]\n",
            " [-0.36598082 -1.04923114]\n",
            " [-1.10972554 -0.29878768]\n",
            " [-0.55568089 -0.5489355 ]\n",
            " [ 0.47411948 -0.71570071]\n",
            " [ 0.06761933 -0.96584853]\n",
            " [-0.3840475   1.36886446]\n",
            " [-0.11605851 -0.96584853]\n",
            " [ 1.21184197 -0.13202246]\n",
            " [-0.59783646 -0.5489355 ]\n",
            " [ 2.7746092   1.86916011]\n",
            " [-0.27865857  1.03533404]\n",
            " [-0.90798102 -0.5489355 ]\n",
            " [ 0.50724171 -1.04923114]\n",
            " [-0.83571433 -0.29878768]\n",
            " [-0.40512528 -0.71570071]\n",
            " [ 1.90439777 -0.79908332]\n",
            " [ 1.46477539 -0.04863985]\n",
            " [ 0.13988603 -1.04923114]\n",
            " [-0.89894768 -0.96584853]\n",
            " [-0.55568089 -0.29878768]\n",
            " [ 0.61263064 -0.13202246]\n",
            " [ 0.89567519 -0.96584853]\n",
            " [-0.62794758  0.20150797]\n",
            " [-1.02240328  0.618421  ]\n",
            " [ 2.56684246 -0.04863985]\n",
            " [-0.63396981 -0.96584853]\n",
            " [-0.91400324  1.11871664]\n",
            " [ 1.24195309 -0.96584853]\n",
            " [ 0.56144173 -0.79908332]\n",
            " [-0.98024771 -0.88246592]\n",
            " [ 0.95288632  1.20209925]\n",
            " [-0.70021428  0.36827318]\n",
            " [-0.49244753  2.61960357]\n",
            " [-0.95916993 -0.46555289]\n",
            " [-0.6309587   2.36945575]\n",
            " [-0.63999203 -1.04923114]\n",
            " [-0.83571433 -0.71570071]\n",
            " [ 0.38980834 -0.46555289]\n",
            " [ 0.5764973   0.11812536]\n",
            " [ 0.65779732  2.36945575]\n",
            " [-0.42921418 -0.96584853]\n",
            " [-0.17326964 -0.6323181 ]\n",
            " [-0.49244753 -0.79908332]\n",
            " [-0.53761422 -0.71570071]\n",
            " [ 0.70296401 -0.46555289]\n",
            " [ 0.81136405  0.618421  ]\n",
            " [ 0.59155286  1.03533404]\n",
            " [-0.86582545 -0.38217028]\n",
            " [-0.37501416 -0.21540507]\n",
            " [ 0.88061963 -0.5489355 ]\n",
            " [-0.04078071 -0.5489355 ]\n",
            " [-0.91099213 -0.71570071]\n",
            " [-0.39308083  0.28489057]\n",
            " [-0.84775877 -1.04923114]\n",
            " [-0.23349189  0.618421  ]\n",
            " [-0.63396981  0.70180361]\n",
            " [ 0.24828607 -1.04923114]\n",
            " [-0.38103638 -0.29878768]\n",
            " [-0.46835864  0.618421  ]\n",
            " [ 1.8863311  -0.96584853]\n",
            " [ 0.73006402 -0.38217028]\n",
            " [-0.48943642 -0.46555289]\n",
            " [ 0.53133061 -0.96584853]\n",
            " [-1.08864775 -0.79908332]\n",
            " [ 1.06128636 -0.79908332]\n",
            " [ 0.67285289  1.70239489]\n",
            " [-0.07691405 -0.96584853]\n",
            " [-0.12509185 -0.88246592]\n",
            " [ 1.09741971 -0.88246592]\n",
            " [-0.85980322  0.36827318]\n",
            " [ 0.32958609  0.53503839]\n",
            " [-0.42921418  1.11871664]\n",
            " [-1.02240328  2.11930793]\n",
            " [-0.43824752 -0.96584853]\n",
            " [ 0.74813069 -0.96584853]\n",
            " [-0.80861432  0.28489057]\n",
            " [-0.98626994 -0.79908332]\n",
            " [-0.86883656  0.618421  ]\n",
            " [-0.37802527 -0.88246592]\n",
            " [-0.95615881 -0.79908332]\n",
            " [-0.81764765  1.03533404]\n",
            " [ 0.27237496 -1.04923114]\n",
            " [ 0.71199734  0.45165579]\n",
            " [-0.64601426 -0.21540507]\n",
            " [-0.52858088  0.70180361]\n",
            " [-0.80861432  2.45283836]\n",
            " [-0.06788072 -0.96584853]\n",
            " [ 0.04955266  1.95254271]\n",
            " [-0.94110325  0.11812536]\n",
            " [-1.05552552 -0.5489355 ]\n",
            " [-0.83270321 -1.04923114]\n",
            " [-0.86883656  0.20150797]\n",
            " [-0.63698092  0.86856882]\n",
            " [ 0.48315282 -0.79908332]\n",
            " [ 4.28919863 -0.71570071]\n",
            " [ 2.14829786 -0.96584853]\n",
            " [ 0.3566861   0.20150797]\n",
            " [-0.59783646 -0.6323181 ]\n",
            " [-0.30274747 -0.38217028]\n",
            " [-0.14014741 -0.71570071]\n",
            " [ 1.4406865  -1.04923114]\n",
            " [-0.60385869  1.7857775 ]\n",
            " [-0.63396981  0.28489057]]\n"
          ]
        }
      ]
    },
    {
      "cell_type": "code",
      "source": [
        "from sklearn.neighbors import KNeighborsClassifier\n",
        "classifier = KNeighborsClassifier(n_neighbors= 5, metric = 'minkowski', p=2)\n",
        "classifier.fit(x_train, y_train)"
      ],
      "metadata": {
        "colab": {
          "base_uri": "https://localhost:8080/"
        },
        "id": "dLv7t779T64P",
        "outputId": "630faf01-1cf5-4366-a4fd-207aa4880d5e"
      },
      "execution_count": 16,
      "outputs": [
        {
          "output_type": "execute_result",
          "data": {
            "text/plain": [
              "KNeighborsClassifier()"
            ]
          },
          "metadata": {},
          "execution_count": 16
        }
      ]
    },
    {
      "cell_type": "code",
      "source": [
        "y_pred = classifier.predict(x_test)"
      ],
      "metadata": {
        "id": "vXK_gu1eT9pG"
      },
      "execution_count": 17,
      "outputs": []
    },
    {
      "cell_type": "code",
      "source": [
        "from sklearn.metrics import confusion_matrix\n",
        "cm = confusion_matrix(y_test, y_pred)\n",
        "print(cm)"
      ],
      "metadata": {
        "colab": {
          "base_uri": "https://localhost:8080/"
        },
        "id": "bkUVNmVMUBrL",
        "outputId": "e0f47ea8-7a5a-45be-88b2-835ee5b5b6cb"
      },
      "execution_count": 18,
      "outputs": [
        {
          "output_type": "stream",
          "name": "stdout",
          "text": [
            "[[93 37]\n",
            " [35 27]]\n"
          ]
        }
      ]
    },
    {
      "cell_type": "code",
      "source": [
        "from matplotlib.colors import ListedColormap\n",
        "x_set, y_set = x_train, y_train\n",
        "x1, x2 = np.meshgrid(np.arange(start=x_set[:, 0].min()-1, stop=x_set[:, 0].max()+1, step=0.01),\n",
        "                     np.arange(start=x_set[:, 1].min()-1, stop=x_set[:, 1].max()+1, step=0.01))\n",
        "plt.contourf(x1, x2, classifier.predict(np.array([x1.ravel(),x2.ravel()]).T).reshape(x1.shape),\n",
        "             alpha = 0.75, cmap = ListedColormap(('red', 'green')))\n",
        "plt.xlim(x1.min(), x1.max())\n",
        "plt.ylim(x2.min(), x2.max())\n",
        "for i, j in enumerate (np.unique(y_set)):\n",
        "  plt.scatter(x_set[y_set == j, 0], x_set[y_set == j, 1],\n",
        "              c = ListedColormap(('red','green'))(i), label = j)\n",
        "plt.title('KLasifikasi Data dengan K-NN (Data Training')\n",
        "plt.xlabel('DiabetesPedigreeFunctio')\n",
        "plt.ylabel('umur')\n",
        "plt.legend()\n",
        "plt.show()"
      ],
      "metadata": {
        "colab": {
          "base_uri": "https://localhost:8080/",
          "height": 350
        },
        "id": "Xu7WtP81UGFa",
        "outputId": "a2bf4c31-a351-413e-bdfa-90a6c93f6cec"
      },
      "execution_count": 20,
      "outputs": [
        {
          "output_type": "stream",
          "name": "stderr",
          "text": [
            "*c* argument looks like a single numeric RGB or RGBA sequence, which should be avoided as value-mapping will have precedence in case its length matches with *x* & *y*.  Please use the *color* keyword-argument or provide a 2-D array with a single row if you intend to specify the same RGB or RGBA value for all points.\n",
            "*c* argument looks like a single numeric RGB or RGBA sequence, which should be avoided as value-mapping will have precedence in case its length matches with *x* & *y*.  Please use the *color* keyword-argument or provide a 2-D array with a single row if you intend to specify the same RGB or RGBA value for all points.\n"
          ]
        },
        {
          "output_type": "display_data",
          "data": {
            "text/plain": [
              "<Figure size 432x288 with 1 Axes>"
            ],
            "image/png": "[encoded data removed]"
          },
          "metadata": {
            "needs_background": "light"
          }
        }
      ]
    }
  ]
}